{
 "cells": [
  {
   "cell_type": "code",
   "execution_count": 4,
   "id": "0f3a3915",
   "metadata": {},
   "outputs": [
    {
     "name": "stdout",
     "output_type": "stream",
     "text": [
      "Selected repositories have been written to selected_repositories_org.txt\n"
     ]
    }
   ],
   "source": [
    "import os\n",
    "import random\n",
    "import csv\n",
    "\n",
    "\n",
    "folder_path = '/Users/stevefeng/Desktop/project-to-map/Data/known-projects/'\n",
    "all_repos = []\n",
    "\n",
    "\n",
    "# Read each file and append its contents to the list\n",
    "for filename in os.listdir(folder_path):\n",
    "    if filename.endswith('.txt'):\n",
    "        with open(os.path.join(folder_path, filename), 'r') as file:\n",
    "            repos = file.read().splitlines()\n",
    "            all_repos.extend(repos)\n",
    "\n",
    "# Randomly select 97 unique repositories\n",
    "selected_repos = random.sample(all_repos, 97) if len(all_repos) >= 97 else all_repos\n",
    "\n",
    "# Write the selected repositories to a text file\n",
    "with open('selected_repositories.txt', 'w', encoding='utf-8') as file:\n",
    "    for repo in selected_repos:\n",
    "        file.write(f\"';{repo}'\\n\")\n",
    "\n",
    "print(\"Selected repositories have been written to selected_repositories_org.txt\")\n"
   ]
  }
 ],
 "metadata": {
  "kernelspec": {
   "display_name": "Python 3 (ipykernel)",
   "language": "python",
   "name": "python3"
  },
  "language_info": {
   "codemirror_mode": {
    "name": "ipython",
    "version": 3
   },
   "file_extension": ".py",
   "mimetype": "text/x-python",
   "name": "python",
   "nbconvert_exporter": "python",
   "pygments_lexer": "ipython3",
   "version": "3.9.12"
  }
 },
 "nbformat": 4,
 "nbformat_minor": 5
}
